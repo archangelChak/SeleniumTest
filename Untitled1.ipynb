{
 "cells": [
  {
   "cell_type": "code",
   "execution_count": 1,
   "metadata": {},
   "outputs": [
    {
     "name": "stdout",
     "output_type": "stream",
     "text": [
      "All tests passed!\n"
     ]
    }
   ],
   "source": [
    "def test_abs1():\n",
    "    assert abs(-42) == 42, \"Should be absolute value of a number\" \n",
    "\n",
    "if __name__ == \"__main__\":\n",
    "    test_abs1()\n",
    "    print(\"All tests passed!\")"
   ]
  },
  {
   "cell_type": "code",
   "execution_count": 8,
   "metadata": {},
   "outputs": [
    {
     "name": "stderr",
     "output_type": "stream",
     "text": [
      ".F\n",
      "======================================================================\n",
      "FAIL: test_abs2 (__main__.TestAbs)\n",
      "----------------------------------------------------------------------\n",
      "Traceback (most recent call last):\n",
      "  File \"<ipython-input-8-ee4f0a91fb4d>\", line 8, in test_abs2\n",
      "    self.assertEqual(abs(-42), -42, \"Should be absolute value of a number\")\n",
      "AssertionError: 42 != -42 : Should be absolute value of a number\n",
      "\n",
      "----------------------------------------------------------------------\n",
      "Ran 2 tests in 0.008s\n",
      "\n",
      "FAILED (failures=1)\n"
     ]
    }
   ],
   "source": [
    "import unittest\n",
    "\n",
    "class TestAbs(unittest.TestCase):\n",
    "    def test_abs1(self):\n",
    "        self.assertEqual(abs(-42), 42, \"Should be absolute value of a number\")\n",
    "        \n",
    "    def test_abs2(self):\n",
    "        self.assertEqual(abs(-42), -42, \"Should be absolute value of a number\")\n",
    "        \n",
    "if __name__ == \"__main__\":\n",
    "    unittest.main(argv=['first-arg-is-ignored'], exit=False)"
   ]
  },
  {
   "cell_type": "code",
   "execution_count": null,
   "metadata": {},
   "outputs": [],
   "source": []
  },
  {
   "cell_type": "code",
   "execution_count": null,
   "metadata": {},
   "outputs": [],
   "source": []
  },
  {
   "cell_type": "code",
   "execution_count": 12,
   "metadata": {},
   "outputs": [
    {
     "name": "stderr",
     "output_type": "stream",
     "text": [
      "C:\\Users\\1\\Miniconda3\\lib\\site-packages\\selenium\\webdriver\\remote\\webdriver.py:152: ResourceWarning: unclosed <socket.socket fd=1184, family=AddressFamily.AF_INET, type=SocketKind.SOCK_STREAM, proto=0, laddr=('127.0.0.1', 53643), raddr=('127.0.0.1', 53638)>\n",
      "  self.error_handler = ErrorHandler()\n",
      "ResourceWarning: Enable tracemalloc to get the object allocation traceback\n",
      ".E\n",
      "======================================================================\n",
      "ERROR: test_abs2 (__main__.TestAbs)\n",
      "----------------------------------------------------------------------\n",
      "Traceback (most recent call last):\n",
      "  File \"<ipython-input-12-c0ac2422ba73>\", line 33, in test_abs2\n",
      "    input2 = browser.find_element_by_css_selector(\".first_block .form-control.second\")\n",
      "  File \"C:\\Users\\1\\Miniconda3\\lib\\site-packages\\selenium\\webdriver\\remote\\webdriver.py\", line 598, in find_element_by_css_selector\n",
      "    return self.find_element(by=By.CSS_SELECTOR, value=css_selector)\n",
      "  File \"C:\\Users\\1\\Miniconda3\\lib\\site-packages\\selenium\\webdriver\\remote\\webdriver.py\", line 978, in find_element\n",
      "    'value': value})['value']\n",
      "  File \"C:\\Users\\1\\Miniconda3\\lib\\site-packages\\selenium\\webdriver\\remote\\webdriver.py\", line 321, in execute\n",
      "    self.error_handler.check_response(response)\n",
      "  File \"C:\\Users\\1\\Miniconda3\\lib\\site-packages\\selenium\\webdriver\\remote\\errorhandler.py\", line 242, in check_response\n",
      "    raise exception_class(message, screen, stacktrace)\n",
      "selenium.common.exceptions.NoSuchElementException: Message: no such element: Unable to locate element: {\"method\":\"css selector\",\"selector\":\".first_block .form-control.second\"}\n",
      "  (Session info: chrome=80.0.3987.87)\n",
      "\n",
      "\n",
      "----------------------------------------------------------------------\n",
      "Ran 2 tests in 21.065s\n",
      "\n",
      "FAILED (errors=1)\n"
     ]
    }
   ],
   "source": [
    "import unittest\n",
    "from selenium import webdriver\n",
    "import time\n",
    "class TestAbs(unittest.TestCase):\n",
    "    def test_abs1(self):\n",
    "        link = \"http://suninjuly.github.io/registration1.html\"\n",
    "        browser = webdriver.Chrome()\n",
    "        browser.get(link)\n",
    "\n",
    "        input1 = browser.find_element_by_css_selector(\".first_block .form-control.first\")\n",
    "        input1.send_keys(\"Ivan\")\n",
    "        input2 = browser.find_element_by_css_selector(\".first_block .form-control.second\")\n",
    "        input2.send_keys(\"Petrov\")\n",
    "        input3 = browser.find_element_by_css_selector(\".first_block .form-control.third\")\n",
    "        input3.send_keys(\"Smolensk\")\n",
    "\n",
    "        button = browser.find_element_by_css_selector(\"button.btn\")\n",
    "        button.click()\n",
    "\n",
    "        time.sleep(1)\n",
    "\n",
    "        welcome_text_elt = browser.find_element_by_tag_name(\"h1\")\n",
    "        welcome_text = welcome_text_elt.text\n",
    "\n",
    "        self.assertEqual(\"Congratulations! You have successfully registered!\",welcome_text)\n",
    "    def test_abs2(self):\n",
    "        link = \"http://suninjuly.github.io/registration2.html\"\n",
    "        browser = webdriver.Chrome()\n",
    "        browser.get(link)\n",
    "\n",
    "        input1 = browser.find_element_by_css_selector(\".first_block .form-control.first\")\n",
    "        input1.send_keys(\"Ivan\")\n",
    "        input2 = browser.find_element_by_css_selector(\".first_block .form-control.second\")\n",
    "        input2.send_keys(\"Petrov\")\n",
    "        input3 = browser.find_element_by_css_selector(\".first_block .form-control.third\")\n",
    "        input3.send_keys(\"Smolensk\")\n",
    "\n",
    "        button = browser.find_element_by_css_selector(\"button.btn\")\n",
    "        button.click()\n",
    "\n",
    "        time.sleep(1)\n",
    "\n",
    "        welcome_text_elt = browser.find_element_by_tag_name(\"h1\")\n",
    "        welcome_text = welcome_text_elt.text\n",
    "\n",
    "        self.assertEqual(\"Congratulations! You have successfully registered!\",welcome_text)\n",
    "        \n",
    "        \n",
    "if __name__ == \"__main__\":\n",
    "    unittest.main(argv=['first-arg-is-ignored'], exit=False)"
   ]
  },
  {
   "cell_type": "code",
   "execution_count": null,
   "metadata": {},
   "outputs": [],
   "source": []
  }
 ],
 "metadata": {
  "kernelspec": {
   "display_name": "Python 3",
   "language": "python",
   "name": "python3"
  },
  "language_info": {
   "codemirror_mode": {
    "name": "ipython",
    "version": 3
   },
   "file_extension": ".py",
   "mimetype": "text/x-python",
   "name": "python",
   "nbconvert_exporter": "python",
   "pygments_lexer": "ipython3",
   "version": "3.7.4"
  }
 },
 "nbformat": 4,
 "nbformat_minor": 4
}
